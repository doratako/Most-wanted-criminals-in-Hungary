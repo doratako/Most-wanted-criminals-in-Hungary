{
 "cells": [
  {
   "cell_type": "code",
   "execution_count": 1,
   "id": "8cef3792-9ea8-4d77-a942-32fa8d5d95a8",
   "metadata": {},
   "outputs": [],
   "source": [
    "import pandas as pd\n",
    "import matplotlib.pyplot as plt\n"
   ]
  },
  {
   "cell_type": "markdown",
   "id": "9e9a7330-553b-4ba6-a534-e7b8e8627751",
   "metadata": {},
   "source": [
    "### Magyarország legkeresettebb bűnözői\n",
    "\n",
    "A rendőrség, a hivatalos oldalán nyilvánosan elérhetővé teszi a körözési adatbázisukban található személyek listáját.\n",
    "A körözési toplista felületen azok a bűnelkövetők szerepelnek, akiket elfogatóparancs alapján keresnek.\n",
    "\n",
    "A körözési toplistára kerülésnek feltételeit rendőrségi határozat szabályozza. Az elfogatóparancs a körözéssel szemben már azt is magába foglalja, hogy a személy büntetőügy gyanúsítottja, vagy szabadságvesztésre ítélték.\n",
    "\n",
    "Az elkövetők adatlapján a személyes adatok mellett szerepel a bűncselekmény ami miatt körözik, illetve jelzik, hogy különösen veszélyes, esetleg fegyverrel rendelkezik.\n",
    "\n",
    "Az elemzéshez használt adatokat web-scraping segítségével töltöttem le a rendőrség felületéről. https://www.police.hu/hu/koral/toplistas-korozesek\n",
    "Az adatok 2023.március közepén aktuális státuszt prezentálják.\n",
    "\n",
    "\n",
    "\n",
    "\n"
   ]
  },
  {
   "cell_type": "code",
   "execution_count": 2,
   "id": "aa46c593-0292-4691-929b-a34d155708f7",
   "metadata": {},
   "outputs": [
    {
     "data": {
      "text/html": [
       "<div>\n",
       "<style scoped>\n",
       "    .dataframe tbody tr th:only-of-type {\n",
       "        vertical-align: middle;\n",
       "    }\n",
       "\n",
       "    .dataframe tbody tr th {\n",
       "        vertical-align: top;\n",
       "    }\n",
       "\n",
       "    .dataframe thead th {\n",
       "        text-align: right;\n",
       "    }\n",
       "</style>\n",
       "<table border=\"1\" class=\"dataframe\">\n",
       "  <thead>\n",
       "    <tr style=\"text-align: right;\">\n",
       "      <th></th>\n",
       "      <th>Nev</th>\n",
       "      <th>Nem</th>\n",
       "      <th>Szuletesi hely</th>\n",
       "      <th>Szuletesi datum</th>\n",
       "      <th>Allampolgarsag</th>\n",
       "      <th>Korozes</th>\n",
       "      <th>Nyomravezetoi dij</th>\n",
       "      <th>Jelzo</th>\n",
       "    </tr>\n",
       "  </thead>\n",
       "  <tbody>\n",
       "    <tr>\n",
       "      <th>0</th>\n",
       "      <td>BÓDI VIKTOR</td>\n",
       "      <td>Férfi</td>\n",
       "      <td>DEBRECEN</td>\n",
       "      <td>1983-10-27</td>\n",
       "      <td>MAGYAR</td>\n",
       "      <td>KÁBÍTÓSZER-KERESKEDELEM</td>\n",
       "      <td>0</td>\n",
       "      <td>NaN</td>\n",
       "    </tr>\n",
       "    <tr>\n",
       "      <th>1</th>\n",
       "      <td>BÁNÁTI ATTILA</td>\n",
       "      <td>Férfi</td>\n",
       "      <td>VÁC</td>\n",
       "      <td>1980-01-18</td>\n",
       "      <td>MAGYAR</td>\n",
       "      <td>VISSZAÉLÉS KÁBÍTÓSZERREL</td>\n",
       "      <td>0</td>\n",
       "      <td>NaN</td>\n",
       "    </tr>\n",
       "    <tr>\n",
       "      <th>2</th>\n",
       "      <td>BÁNÁTI ATTILA</td>\n",
       "      <td>Férfi</td>\n",
       "      <td>VÁC</td>\n",
       "      <td>1980-01-18</td>\n",
       "      <td>MAGYAR</td>\n",
       "      <td>KÁBÍTÓSZER-KERESKEDELEM</td>\n",
       "      <td>0</td>\n",
       "      <td>NaN</td>\n",
       "    </tr>\n",
       "    <tr>\n",
       "      <th>3</th>\n",
       "      <td>BARKÓCZI TAMÁS</td>\n",
       "      <td>Férfi</td>\n",
       "      <td>TISZAFÜRED</td>\n",
       "      <td>1988-07-27</td>\n",
       "      <td>MAGYAR</td>\n",
       "      <td>RABLÁS</td>\n",
       "      <td>0</td>\n",
       "      <td>NaN</td>\n",
       "    </tr>\n",
       "    <tr>\n",
       "      <th>4</th>\n",
       "      <td>BARTOS NÁNDOR</td>\n",
       "      <td>Férfi</td>\n",
       "      <td>BAJA</td>\n",
       "      <td>1982-08-14</td>\n",
       "      <td>MAGYAR</td>\n",
       "      <td>EMBERCSEMPÉSZÉS</td>\n",
       "      <td>500000</td>\n",
       "      <td>NaN</td>\n",
       "    </tr>\n",
       "  </tbody>\n",
       "</table>\n",
       "</div>"
      ],
      "text/plain": [
       "                Nev     Nem Szuletesi hely Szuletesi datum Allampolgarsag  \\\n",
       "0      BÓDI VIKTOR    Férfi       DEBRECEN      1983-10-27         MAGYAR   \n",
       "1    BÁNÁTI ATTILA    Férfi            VÁC      1980-01-18         MAGYAR   \n",
       "2    BÁNÁTI ATTILA    Férfi            VÁC      1980-01-18         MAGYAR   \n",
       "3   BARKÓCZI TAMÁS    Férfi     TISZAFÜRED      1988-07-27         MAGYAR   \n",
       "4    BARTOS NÁNDOR    Férfi           BAJA      1982-08-14         MAGYAR   \n",
       "\n",
       "                    Korozes  Nyomravezetoi dij Jelzo  \n",
       "0   KÁBÍTÓSZER-KERESKEDELEM                  0   NaN  \n",
       "1  VISSZAÉLÉS KÁBÍTÓSZERREL                  0   NaN  \n",
       "2   KÁBÍTÓSZER-KERESKEDELEM                  0   NaN  \n",
       "3                    RABLÁS                  0   NaN  \n",
       "4           EMBERCSEMPÉSZÉS             500000   NaN  "
      ]
     },
     "execution_count": 2,
     "metadata": {},
     "output_type": "execute_result"
    }
   ],
   "source": [
    "df = pd.read_csv(\"Korozesi_toplista.csv\", sep = \";\")\n",
    "df.head()"
   ]
  },
  {
   "cell_type": "code",
   "execution_count": 3,
   "id": "408f42ec-97d8-4b09-b27d-307364d12510",
   "metadata": {},
   "outputs": [
    {
     "name": "stdout",
     "output_type": "stream",
     "text": [
      "<class 'pandas.core.frame.DataFrame'>\n",
      "RangeIndex: 77 entries, 0 to 76\n",
      "Data columns (total 8 columns):\n",
      " #   Column             Non-Null Count  Dtype \n",
      "---  ------             --------------  ----- \n",
      " 0   Nev                77 non-null     object\n",
      " 1   Nem                77 non-null     object\n",
      " 2   Szuletesi hely     77 non-null     object\n",
      " 3   Szuletesi datum    77 non-null     object\n",
      " 4   Allampolgarsag     77 non-null     object\n",
      " 5   Korozes            73 non-null     object\n",
      " 6   Nyomravezetoi dij  77 non-null     int64 \n",
      " 7   Jelzo              4 non-null      object\n",
      "dtypes: int64(1), object(7)\n",
      "memory usage: 4.9+ KB\n"
     ]
    }
   ],
   "source": [
    "df.info()"
   ]
  },
  {
   "cell_type": "code",
   "execution_count": null,
   "id": "0c7b6c9a-25a5-445b-bf29-910918ea3bbb",
   "metadata": {},
   "outputs": [],
   "source": []
  },
  {
   "cell_type": "markdown",
   "id": "8effdce8-a499-40b6-9897-676851c8dd19",
   "metadata": {},
   "source": [
    "### Adatok előkészítése"
   ]
  },
  {
   "cell_type": "markdown",
   "id": "c58d8dc0-0902-4d42-bd12-a2c5b31872c1",
   "metadata": {},
   "source": [
    "#### Adattisztítás"
   ]
  },
  {
   "cell_type": "markdown",
   "id": "1f8312a1-5d2a-4aeb-b6d6-25171f1d560e",
   "metadata": {},
   "source": [
    "A web-scraping során nem foglalkoztam adattisztítással, így elképzelhető, hogy vannak felesleges szóközök a sztringek körül.\n",
    "\n",
    "A Név oszlopot vizsgálom át ebből a szempontból, és ha ott találok felesleges szóközöket, akkor a Dataframe összes többi sztring típusú oszlopára is alkalmazom azt a metódust, ami az eltávolításukat végzi."
   ]
  },
  {
   "cell_type": "code",
   "execution_count": 4,
   "id": "5da7e885-911a-462b-921f-e39854ec10fd",
   "metadata": {},
   "outputs": [
    {
     "data": {
      "text/plain": [
       "[' BÓDI VIKTOR ', ' BÁNÁTI ATTILA ']"
      ]
     },
     "execution_count": 4,
     "metadata": {},
     "output_type": "execute_result"
    }
   ],
   "source": [
    "df[\"Nev\"].to_list()[0:2]"
   ]
  },
  {
   "cell_type": "markdown",
   "id": "3d79b06c-fbd2-4c48-b670-74630615e57f",
   "metadata": {},
   "source": [
    "Az adathalmazról kapott információ alapján a Körözés és Jelző oszlop tartalmaz NaN értékeket, ezek miatt nem tudom eltávolítani egyszerre a felesleges szóközöket a Dataframe sztring típusú oszlopaiból. <br>\n",
    "Első lépésként így az NaN értékkel foglalkozom.<br>\n",
    " - A Jelző oszlop null értékeit üres értékkel töltöm fel, hiszen azokra a személyekre nem vonatkoznak jelzők. <br>\n",
    " - A Körözés oszlopnak csak 4 sorából hiányzik érték, ezekre konkrétan rákeresek.\n"
   ]
  },
  {
   "cell_type": "code",
   "execution_count": 5,
   "id": "5953bf8d-888e-42a4-8db9-2a8557f37a27",
   "metadata": {},
   "outputs": [],
   "source": [
    "df[\"Jelzo\"] = df[\"Jelzo\"].fillna(\"\")\n"
   ]
  },
  {
   "cell_type": "code",
   "execution_count": 6,
   "id": "d4672bb4-9ed4-4786-8ec5-4585d687cf02",
   "metadata": {},
   "outputs": [
    {
     "data": {
      "text/html": [
       "<div>\n",
       "<style scoped>\n",
       "    .dataframe tbody tr th:only-of-type {\n",
       "        vertical-align: middle;\n",
       "    }\n",
       "\n",
       "    .dataframe tbody tr th {\n",
       "        vertical-align: top;\n",
       "    }\n",
       "\n",
       "    .dataframe thead th {\n",
       "        text-align: right;\n",
       "    }\n",
       "</style>\n",
       "<table border=\"1\" class=\"dataframe\">\n",
       "  <thead>\n",
       "    <tr style=\"text-align: right;\">\n",
       "      <th></th>\n",
       "      <th>Nev</th>\n",
       "      <th>Nem</th>\n",
       "      <th>Szuletesi hely</th>\n",
       "      <th>Szuletesi datum</th>\n",
       "      <th>Allampolgarsag</th>\n",
       "      <th>Korozes</th>\n",
       "      <th>Nyomravezetoi dij</th>\n",
       "      <th>Jelzo</th>\n",
       "    </tr>\n",
       "  </thead>\n",
       "  <tbody>\n",
       "    <tr>\n",
       "      <th>35</th>\n",
       "      <td>KOZÁK ALI</td>\n",
       "      <td>Férfi</td>\n",
       "      <td>MISKOLC</td>\n",
       "      <td>1985-12-24</td>\n",
       "      <td>MAGYAR</td>\n",
       "      <td>NaN</td>\n",
       "      <td>0</td>\n",
       "      <td>Különösen veszélyes</td>\n",
       "    </tr>\n",
       "    <tr>\n",
       "      <th>36</th>\n",
       "      <td>KOZÁK ALI</td>\n",
       "      <td>Férfi</td>\n",
       "      <td>MISKOLC</td>\n",
       "      <td>1985-12-24</td>\n",
       "      <td>MAGYAR</td>\n",
       "      <td>NaN</td>\n",
       "      <td>0</td>\n",
       "      <td>Fegyveres</td>\n",
       "    </tr>\n",
       "    <tr>\n",
       "      <th>57</th>\n",
       "      <td>SÜTŐ FERENC</td>\n",
       "      <td>Férfi</td>\n",
       "      <td>BUDAPEST 03</td>\n",
       "      <td>1979-11-27</td>\n",
       "      <td>MAGYAR</td>\n",
       "      <td>NaN</td>\n",
       "      <td>0</td>\n",
       "      <td>Különösen veszélyes</td>\n",
       "    </tr>\n",
       "    <tr>\n",
       "      <th>58</th>\n",
       "      <td>SÜTŐ FERENC</td>\n",
       "      <td>Férfi</td>\n",
       "      <td>BUDAPEST 03</td>\n",
       "      <td>1979-11-27</td>\n",
       "      <td>MAGYAR</td>\n",
       "      <td>NaN</td>\n",
       "      <td>0</td>\n",
       "      <td>Fegyveres</td>\n",
       "    </tr>\n",
       "  </tbody>\n",
       "</table>\n",
       "</div>"
      ],
      "text/plain": [
       "              Nev     Nem Szuletesi hely Szuletesi datum Allampolgarsag  \\\n",
       "35     KOZÁK ALI    Férfi        MISKOLC      1985-12-24         MAGYAR   \n",
       "36     KOZÁK ALI    Férfi        MISKOLC      1985-12-24         MAGYAR   \n",
       "57   SÜTŐ FERENC    Férfi    BUDAPEST 03      1979-11-27         MAGYAR   \n",
       "58   SÜTŐ FERENC    Férfi    BUDAPEST 03      1979-11-27         MAGYAR   \n",
       "\n",
       "   Korozes  Nyomravezetoi dij                Jelzo  \n",
       "35     NaN                  0  Különösen veszélyes  \n",
       "36     NaN                  0            Fegyveres  \n",
       "57     NaN                  0  Különösen veszélyes  \n",
       "58     NaN                  0            Fegyveres  "
      ]
     },
     "execution_count": 6,
     "metadata": {},
     "output_type": "execute_result"
    }
   ],
   "source": [
    "df[df[\"Korozes\"].isnull()]"
   ]
  },
  {
   "cell_type": "markdown",
   "id": "ab0390b5-ff6b-41ab-b555-039cd9bf668b",
   "metadata": {},
   "source": [
    "A körözés oka minden személy adatlapján fel van tüntetve. Ahhoz, hogy kiderüljön miért hiányzik bizonyos sorokban a bűncselekmény, az egyik érintett nevére szűrök."
   ]
  },
  {
   "cell_type": "code",
   "execution_count": 7,
   "id": "7aa693f8-5a92-4898-afd6-1c243d8a5d15",
   "metadata": {},
   "outputs": [
    {
     "data": {
      "text/html": [
       "<div>\n",
       "<style scoped>\n",
       "    .dataframe tbody tr th:only-of-type {\n",
       "        vertical-align: middle;\n",
       "    }\n",
       "\n",
       "    .dataframe tbody tr th {\n",
       "        vertical-align: top;\n",
       "    }\n",
       "\n",
       "    .dataframe thead th {\n",
       "        text-align: right;\n",
       "    }\n",
       "</style>\n",
       "<table border=\"1\" class=\"dataframe\">\n",
       "  <thead>\n",
       "    <tr style=\"text-align: right;\">\n",
       "      <th></th>\n",
       "      <th>Nev</th>\n",
       "      <th>Nem</th>\n",
       "      <th>Szuletesi hely</th>\n",
       "      <th>Szuletesi datum</th>\n",
       "      <th>Allampolgarsag</th>\n",
       "      <th>Korozes</th>\n",
       "      <th>Nyomravezetoi dij</th>\n",
       "      <th>Jelzo</th>\n",
       "    </tr>\n",
       "  </thead>\n",
       "  <tbody>\n",
       "    <tr>\n",
       "      <th>32</th>\n",
       "      <td>KOZÁK ALI</td>\n",
       "      <td>Férfi</td>\n",
       "      <td>MISKOLC</td>\n",
       "      <td>1985-12-24</td>\n",
       "      <td>MAGYAR</td>\n",
       "      <td>RABLÁS</td>\n",
       "      <td>0</td>\n",
       "      <td></td>\n",
       "    </tr>\n",
       "    <tr>\n",
       "      <th>33</th>\n",
       "      <td>KOZÁK ALI</td>\n",
       "      <td>Férfi</td>\n",
       "      <td>MISKOLC</td>\n",
       "      <td>1985-12-24</td>\n",
       "      <td>MAGYAR</td>\n",
       "      <td>LOPÁS</td>\n",
       "      <td>0</td>\n",
       "      <td></td>\n",
       "    </tr>\n",
       "    <tr>\n",
       "      <th>34</th>\n",
       "      <td>KOZÁK ALI</td>\n",
       "      <td>Férfi</td>\n",
       "      <td>MISKOLC</td>\n",
       "      <td>1985-12-24</td>\n",
       "      <td>MAGYAR</td>\n",
       "      <td>TESTI SÉRTÉS</td>\n",
       "      <td>0</td>\n",
       "      <td></td>\n",
       "    </tr>\n",
       "    <tr>\n",
       "      <th>35</th>\n",
       "      <td>KOZÁK ALI</td>\n",
       "      <td>Férfi</td>\n",
       "      <td>MISKOLC</td>\n",
       "      <td>1985-12-24</td>\n",
       "      <td>MAGYAR</td>\n",
       "      <td>NaN</td>\n",
       "      <td>0</td>\n",
       "      <td>Különösen veszélyes</td>\n",
       "    </tr>\n",
       "    <tr>\n",
       "      <th>36</th>\n",
       "      <td>KOZÁK ALI</td>\n",
       "      <td>Férfi</td>\n",
       "      <td>MISKOLC</td>\n",
       "      <td>1985-12-24</td>\n",
       "      <td>MAGYAR</td>\n",
       "      <td>NaN</td>\n",
       "      <td>0</td>\n",
       "      <td>Fegyveres</td>\n",
       "    </tr>\n",
       "  </tbody>\n",
       "</table>\n",
       "</div>"
      ],
      "text/plain": [
       "            Nev     Nem Szuletesi hely Szuletesi datum Allampolgarsag  \\\n",
       "32   KOZÁK ALI    Férfi        MISKOLC      1985-12-24         MAGYAR   \n",
       "33   KOZÁK ALI    Férfi        MISKOLC      1985-12-24         MAGYAR   \n",
       "34   KOZÁK ALI    Férfi        MISKOLC      1985-12-24         MAGYAR   \n",
       "35   KOZÁK ALI    Férfi        MISKOLC      1985-12-24         MAGYAR   \n",
       "36   KOZÁK ALI    Férfi        MISKOLC      1985-12-24         MAGYAR   \n",
       "\n",
       "         Korozes  Nyomravezetoi dij                Jelzo  \n",
       "32        RABLÁS                  0                       \n",
       "33         LOPÁS                  0                       \n",
       "34  TESTI SÉRTÉS                  0                       \n",
       "35           NaN                  0  Különösen veszélyes  \n",
       "36           NaN                  0            Fegyveres  "
      ]
     },
     "execution_count": 7,
     "metadata": {},
     "output_type": "execute_result"
    }
   ],
   "source": [
    "# felesleges szóközök miatt részleges egyezőség\n",
    "\n",
    "df[df[\"Nev\"].str.contains(\"KOZÁK\")]"
   ]
  },
  {
   "cell_type": "markdown",
   "id": "c7e12ab2-668f-466c-a3f4-1df82f1e56f0",
   "metadata": {},
   "source": [
    "A szűrés alapján mindkét érintett esetében van információ arról, hogy miért körözik őket, azonban náluk fel lett tüntetve egyéb információ a Jelző oszlopban, ami már változtat a struktúrán.\n",
    "Nem változtatok a jelenlegi elrendezésen, az NaN értéket cserélem csak üres értékekre."
   ]
  },
  {
   "cell_type": "code",
   "execution_count": 8,
   "id": "61e25b5e-69ae-4bf5-b23f-44858e15166c",
   "metadata": {},
   "outputs": [],
   "source": [
    "df[\"Korozes\"] = df[\"Korozes\"].fillna(\"\")"
   ]
  },
  {
   "cell_type": "markdown",
   "id": "06b0cb9d-e562-439f-94cd-0cad3dbb8dec",
   "metadata": {},
   "source": [
    "A null értékek kiváltását követően együtemben tudom módosítani a sztringeket"
   ]
  },
  {
   "cell_type": "code",
   "execution_count": 9,
   "id": "8480da17-9aab-4dfc-9096-95d486a38780",
   "metadata": {},
   "outputs": [],
   "source": [
    "# felesleges szóközök eltávolítása\n",
    "\n",
    "df = df.applymap(lambda x: x.strip() if isinstance(x, str) else x )"
   ]
  },
  {
   "cell_type": "code",
   "execution_count": 10,
   "id": "f94546f6-4609-492b-8cbd-2caefb3a1e96",
   "metadata": {},
   "outputs": [],
   "source": [
    "# nagybetűs szövegek átalakítása tulajdonnév formára\n",
    "\n",
    "cols_mod = [\"Nev\", \"Szuletesi hely\", \"Allampolgarsag\", \"Korozes\", \"Jelzo\"]\n",
    "df[cols_mod] = df[cols_mod].applymap(str.title)"
   ]
  },
  {
   "cell_type": "code",
   "execution_count": 11,
   "id": "af5e8cdb-326d-40ad-aa37-a6f0a8ba4c20",
   "metadata": {},
   "outputs": [
    {
     "data": {
      "text/html": [
       "<div>\n",
       "<style scoped>\n",
       "    .dataframe tbody tr th:only-of-type {\n",
       "        vertical-align: middle;\n",
       "    }\n",
       "\n",
       "    .dataframe tbody tr th {\n",
       "        vertical-align: top;\n",
       "    }\n",
       "\n",
       "    .dataframe thead th {\n",
       "        text-align: right;\n",
       "    }\n",
       "</style>\n",
       "<table border=\"1\" class=\"dataframe\">\n",
       "  <thead>\n",
       "    <tr style=\"text-align: right;\">\n",
       "      <th></th>\n",
       "      <th>Nev</th>\n",
       "      <th>Nem</th>\n",
       "      <th>Szuletesi hely</th>\n",
       "      <th>Szuletesi datum</th>\n",
       "      <th>Allampolgarsag</th>\n",
       "      <th>Korozes</th>\n",
       "      <th>Nyomravezetoi dij</th>\n",
       "      <th>Jelzo</th>\n",
       "    </tr>\n",
       "  </thead>\n",
       "  <tbody>\n",
       "    <tr>\n",
       "      <th>0</th>\n",
       "      <td>Bódi Viktor</td>\n",
       "      <td>Férfi</td>\n",
       "      <td>Debrecen</td>\n",
       "      <td>1983-10-27</td>\n",
       "      <td>Magyar</td>\n",
       "      <td>Kábítószer-Kereskedelem</td>\n",
       "      <td>0</td>\n",
       "      <td></td>\n",
       "    </tr>\n",
       "    <tr>\n",
       "      <th>1</th>\n",
       "      <td>Bánáti Attila</td>\n",
       "      <td>Férfi</td>\n",
       "      <td>Vác</td>\n",
       "      <td>1980-01-18</td>\n",
       "      <td>Magyar</td>\n",
       "      <td>Visszaélés Kábítószerrel</td>\n",
       "      <td>0</td>\n",
       "      <td></td>\n",
       "    </tr>\n",
       "    <tr>\n",
       "      <th>2</th>\n",
       "      <td>Bánáti Attila</td>\n",
       "      <td>Férfi</td>\n",
       "      <td>Vác</td>\n",
       "      <td>1980-01-18</td>\n",
       "      <td>Magyar</td>\n",
       "      <td>Kábítószer-Kereskedelem</td>\n",
       "      <td>0</td>\n",
       "      <td></td>\n",
       "    </tr>\n",
       "  </tbody>\n",
       "</table>\n",
       "</div>"
      ],
      "text/plain": [
       "             Nev    Nem Szuletesi hely Szuletesi datum Allampolgarsag  \\\n",
       "0    Bódi Viktor  Férfi       Debrecen      1983-10-27         Magyar   \n",
       "1  Bánáti Attila  Férfi            Vác      1980-01-18         Magyar   \n",
       "2  Bánáti Attila  Férfi            Vác      1980-01-18         Magyar   \n",
       "\n",
       "                    Korozes  Nyomravezetoi dij Jelzo  \n",
       "0   Kábítószer-Kereskedelem                  0        \n",
       "1  Visszaélés Kábítószerrel                  0        \n",
       "2   Kábítószer-Kereskedelem                  0        "
      ]
     },
     "execution_count": 11,
     "metadata": {},
     "output_type": "execute_result"
    }
   ],
   "source": [
    "df.head(3)"
   ]
  },
  {
   "cell_type": "code",
   "execution_count": 12,
   "id": "0e432d7b-2ef4-47bc-bdc7-bd79519aca39",
   "metadata": {},
   "outputs": [],
   "source": [
    "# adattípus konverzió\n",
    "\n",
    "df[\"Nem\"] = df[\"Nem\"].astype(\"category\")\n",
    "df[\"Szuletesi datum\"] = pd.to_datetime(df[\"Szuletesi datum\"])"
   ]
  },
  {
   "cell_type": "code",
   "execution_count": 13,
   "id": "3f13d030-3b1d-459c-b7b7-0aa3c195cf7d",
   "metadata": {},
   "outputs": [
    {
     "name": "stdout",
     "output_type": "stream",
     "text": [
      "A listában 0 egyező sor van\n"
     ]
    }
   ],
   "source": [
    "# duplikáció szűrése\n",
    "\n",
    "duplicated = len(df[df.duplicated(keep = False)])\n",
    "print(f\"A listában {duplicated} egyező sor van\")"
   ]
  },
  {
   "cell_type": "markdown",
   "id": "a4cf9518-ad19-4b0d-ac13-b334895141a8",
   "metadata": {},
   "source": [
    "#### Sorazonosítók"
   ]
  },
  {
   "cell_type": "markdown",
   "id": "525c119b-59cf-4784-9328-092fe54b9df3",
   "metadata": {},
   "source": [
    "Az adathalmazban egy adott személy több sorban is szerepelhet. A futósorszámos sorazonosító azonban megnehezíti, hogy egyszerre egy személy több sorban lévő adatait is elérjük. Annak érdekében, hogy minél egyszerűbben szűrhessek személyekre, a Név és Születési dátum mezőkkel képzett multiindex-szel váltom le a futósorszámozást. A név és születési dátum kombinációja elegendő adott személy egyedi azonosítására. (Feltételezve azt is, hogy alacsony eséllyel szerepelnek azonos névvel körözött személyek a listában)  "
   ]
  },
  {
   "cell_type": "code",
   "execution_count": 14,
   "id": "c1a46480-7eef-4f02-970a-c69328636aa3",
   "metadata": {},
   "outputs": [
    {
     "data": {
      "text/html": [
       "<div>\n",
       "<style scoped>\n",
       "    .dataframe tbody tr th:only-of-type {\n",
       "        vertical-align: middle;\n",
       "    }\n",
       "\n",
       "    .dataframe tbody tr th {\n",
       "        vertical-align: top;\n",
       "    }\n",
       "\n",
       "    .dataframe thead th {\n",
       "        text-align: right;\n",
       "    }\n",
       "</style>\n",
       "<table border=\"1\" class=\"dataframe\">\n",
       "  <thead>\n",
       "    <tr style=\"text-align: right;\">\n",
       "      <th></th>\n",
       "      <th></th>\n",
       "      <th>Nem</th>\n",
       "      <th>Szuletesi hely</th>\n",
       "      <th>Allampolgarsag</th>\n",
       "      <th>Korozes</th>\n",
       "      <th>Nyomravezetoi dij</th>\n",
       "      <th>Jelzo</th>\n",
       "    </tr>\n",
       "    <tr>\n",
       "      <th>Nev</th>\n",
       "      <th>Szuletesi datum</th>\n",
       "      <th></th>\n",
       "      <th></th>\n",
       "      <th></th>\n",
       "      <th></th>\n",
       "      <th></th>\n",
       "      <th></th>\n",
       "    </tr>\n",
       "  </thead>\n",
       "  <tbody>\n",
       "    <tr>\n",
       "      <th>Barkóczi Tamás</th>\n",
       "      <th>1988-07-27</th>\n",
       "      <td>Férfi</td>\n",
       "      <td>Tiszafüred</td>\n",
       "      <td>Magyar</td>\n",
       "      <td>Rablás</td>\n",
       "      <td>0</td>\n",
       "      <td></td>\n",
       "    </tr>\n",
       "    <tr>\n",
       "      <th>Bartos Nándor</th>\n",
       "      <th>1982-08-14</th>\n",
       "      <td>Férfi</td>\n",
       "      <td>Baja</td>\n",
       "      <td>Magyar</td>\n",
       "      <td>Embercsempészés</td>\n",
       "      <td>500000</td>\n",
       "      <td></td>\n",
       "    </tr>\n",
       "    <tr>\n",
       "      <th rowspan=\"2\" valign=\"top\">Borsos Zsigmondné</th>\n",
       "      <th>1966-06-19</th>\n",
       "      <td>Nő</td>\n",
       "      <td>Vásárosnamény</td>\n",
       "      <td>Magyar</td>\n",
       "      <td>Orgazdaság</td>\n",
       "      <td>0</td>\n",
       "      <td></td>\n",
       "    </tr>\n",
       "    <tr>\n",
       "      <th>1966-06-19</th>\n",
       "      <td>Nő</td>\n",
       "      <td>Vásárosnamény</td>\n",
       "      <td>Magyar</td>\n",
       "      <td>Jövedékkel Visszaélés Elősegítése</td>\n",
       "      <td>0</td>\n",
       "      <td></td>\n",
       "    </tr>\n",
       "    <tr>\n",
       "      <th>Bánáti Attila</th>\n",
       "      <th>1980-01-18</th>\n",
       "      <td>Férfi</td>\n",
       "      <td>Vác</td>\n",
       "      <td>Magyar</td>\n",
       "      <td>Visszaélés Kábítószerrel</td>\n",
       "      <td>0</td>\n",
       "      <td></td>\n",
       "    </tr>\n",
       "  </tbody>\n",
       "</table>\n",
       "</div>"
      ],
      "text/plain": [
       "                                     Nem Szuletesi hely Allampolgarsag  \\\n",
       "Nev               Szuletesi datum                                        \n",
       "Barkóczi Tamás    1988-07-27       Férfi     Tiszafüred         Magyar   \n",
       "Bartos Nándor     1982-08-14       Férfi           Baja         Magyar   \n",
       "Borsos Zsigmondné 1966-06-19          Nő  Vásárosnamény         Magyar   \n",
       "                  1966-06-19          Nő  Vásárosnamény         Magyar   \n",
       "Bánáti Attila     1980-01-18       Férfi            Vác         Magyar   \n",
       "\n",
       "                                                             Korozes  \\\n",
       "Nev               Szuletesi datum                                      \n",
       "Barkóczi Tamás    1988-07-27                                  Rablás   \n",
       "Bartos Nándor     1982-08-14                         Embercsempészés   \n",
       "Borsos Zsigmondné 1966-06-19                              Orgazdaság   \n",
       "                  1966-06-19       Jövedékkel Visszaélés Elősegítése   \n",
       "Bánáti Attila     1980-01-18                Visszaélés Kábítószerrel   \n",
       "\n",
       "                                   Nyomravezetoi dij Jelzo  \n",
       "Nev               Szuletesi datum                           \n",
       "Barkóczi Tamás    1988-07-27                       0        \n",
       "Bartos Nándor     1982-08-14                  500000        \n",
       "Borsos Zsigmondné 1966-06-19                       0        \n",
       "                  1966-06-19                       0        \n",
       "Bánáti Attila     1980-01-18                       0        "
      ]
     },
     "execution_count": 14,
     "metadata": {},
     "output_type": "execute_result"
    }
   ],
   "source": [
    "df.set_index([\"Nev\", \"Szuletesi datum\"], inplace = True)\n",
    "\n",
    "df.sort_index(inplace = True)\n",
    "df.head()"
   ]
  },
  {
   "cell_type": "code",
   "execution_count": null,
   "id": "f22c6c3a-19f1-4361-a152-4d754312db06",
   "metadata": {},
   "outputs": [],
   "source": []
  },
  {
   "cell_type": "markdown",
   "id": "078950d7-1291-41f6-944b-36821e534646",
   "metadata": {},
   "source": [
    "### Adatok feltárása és elemzése"
   ]
  },
  {
   "cell_type": "markdown",
   "id": "4fdd04d2-4199-4639-87cb-40f6dff6ff20",
   "metadata": {},
   "source": [
    "<b>Körözési toplistán szereplő bűnözők száma<b>"
   ]
  },
  {
   "cell_type": "code",
   "execution_count": 15,
   "id": "d42bbdd3-7716-46f6-af71-102ceac47d81",
   "metadata": {},
   "outputs": [
    {
     "name": "stdout",
     "output_type": "stream",
     "text": [
      "A körözési toplistán legfeljebb 50 személy szerepelhet.\n",
      "2023. március közepén 46 bűnelkövetőt köröznek.\n"
     ]
    }
   ],
   "source": [
    "persons = df.index.drop_duplicates()   # egyedi indexek\n",
    "num_persons = len(persons)\n",
    "print(f\"A körözési toplistán legfeljebb 50 személy szerepelhet.\\n2023. március közepén {num_persons} bűnelkövetőt köröznek.\")"
   ]
  },
  {
   "cell_type": "markdown",
   "id": "8c2b611b-bd91-40ae-b050-53c9adebb0e4",
   "metadata": {},
   "source": [
    "<b>Bűncselekmény, ami miatt a legtöbb személyt körözik<b>"
   ]
  },
  {
   "cell_type": "code",
   "execution_count": 16,
   "id": "1a83e60b-50c5-4bb4-b3f2-439e13235f1d",
   "metadata": {},
   "outputs": [],
   "source": [
    "# figyelmen kívül hagyása a Jelző oszlop nem üres értékeit tartalmazó soroknak, amelyek emaitt a Körözés oszlopban üresek\n",
    "\n",
    "crimes_person_df = df[df[\"Korozes\"] != \"\"] "
   ]
  },
  {
   "cell_type": "code",
   "execution_count": 17,
   "id": "7a50fe38-76ce-4f8e-bfa0-258badbe7e9d",
   "metadata": {},
   "outputs": [
    {
     "data": {
      "text/plain": [
       "'Csalás'"
      ]
     },
     "execution_count": 17,
     "metadata": {},
     "output_type": "execute_result"
    }
   ],
   "source": [
    "crimes = crimes_person_df[\"Korozes\"].value_counts()\n",
    "top_crime = crimes.loc[lambda x: x==x.max()].index[0]  \n",
    "top_crime"
   ]
  },
  {
   "cell_type": "markdown",
   "id": "49c272a5-8f7a-4bf0-9134-5d604620ede4",
   "metadata": {},
   "source": [
    "<b>Bűncselekmények változatai és azok gyakorisága<b>"
   ]
  },
  {
   "cell_type": "code",
   "execution_count": 18,
   "id": "dda14dc1-9427-452d-9d71-c1b4006b4e92",
   "metadata": {},
   "outputs": [
    {
     "data": {
      "text/plain": [
       "Text(0.5, 1.0, 'Előfordulás')"
      ]
     },
     "execution_count": 18,
     "metadata": {},
     "output_type": "execute_result"
    },
    {
     "data": {
      "image/png": "[encoded data removed]",
      "text/plain": [
       "<Figure size 500x800 with 1 Axes>"
      ]
     },
     "metadata": {},
     "output_type": "display_data"
    }
   ],
   "source": [
    "ax = crimes.plot(kind = \"barh\", figsize = (5, 8), fontsize = 7) \n",
    "ax.set_title(\"Előfordulás\", pad = 20, fontsize = 9)"
   ]
  },
  {
   "cell_type": "code",
   "execution_count": null,
   "id": "30327480-959b-4bda-9bee-aa18d5c02578",
   "metadata": {},
   "outputs": [],
   "source": []
  },
  {
   "cell_type": "markdown",
   "id": "9b13327e-e36d-4ce5-9ae0-7f2adb3bb9c8",
   "metadata": {},
   "source": [
    "<b>Legtöbb bűncselekmény elkövetésével körözött személy<b>"
   ]
  },
  {
   "cell_type": "code",
   "execution_count": 19,
   "id": "eade25cb-3f2c-4239-92d7-c403e99e4d4e",
   "metadata": {},
   "outputs": [
    {
     "data": {
      "text/html": [
       "<div>\n",
       "<style scoped>\n",
       "    .dataframe tbody tr th:only-of-type {\n",
       "        vertical-align: middle;\n",
       "    }\n",
       "\n",
       "    .dataframe tbody tr th {\n",
       "        vertical-align: top;\n",
       "    }\n",
       "\n",
       "    .dataframe thead th {\n",
       "        text-align: right;\n",
       "    }\n",
       "</style>\n",
       "<table border=\"1\" class=\"dataframe\">\n",
       "  <thead>\n",
       "    <tr style=\"text-align: right;\">\n",
       "      <th></th>\n",
       "      <th></th>\n",
       "      <th>Korozes</th>\n",
       "    </tr>\n",
       "    <tr>\n",
       "      <th>Nev</th>\n",
       "      <th>Szuletesi datum</th>\n",
       "      <th></th>\n",
       "    </tr>\n",
       "  </thead>\n",
       "  <tbody>\n",
       "    <tr>\n",
       "      <th rowspan=\"4\" valign=\"top\">Klement Tibor</th>\n",
       "      <th>1988-03-29</th>\n",
       "      <td>Lopás</td>\n",
       "    </tr>\n",
       "    <tr>\n",
       "      <th>1988-03-29</th>\n",
       "      <td>Egyedi Azonosító Jellel Visszaélés</td>\n",
       "    </tr>\n",
       "    <tr>\n",
       "      <th>1988-03-29</th>\n",
       "      <td>Kábítószer Birtoklása</td>\n",
       "    </tr>\n",
       "    <tr>\n",
       "      <th>1988-03-29</th>\n",
       "      <td>Csalás</td>\n",
       "    </tr>\n",
       "    <tr>\n",
       "      <th rowspan=\"4\" valign=\"top\">Matta Elemér</th>\n",
       "      <th>1966-07-10</th>\n",
       "      <td>Zsarolás</td>\n",
       "    </tr>\n",
       "    <tr>\n",
       "      <th>1966-07-10</th>\n",
       "      <td>Garázdaság</td>\n",
       "    </tr>\n",
       "    <tr>\n",
       "      <th>1966-07-10</th>\n",
       "      <td>Uzsorabűncselekmény</td>\n",
       "    </tr>\n",
       "    <tr>\n",
       "      <th>1966-07-10</th>\n",
       "      <td>Testi Sértés</td>\n",
       "    </tr>\n",
       "  </tbody>\n",
       "</table>\n",
       "</div>"
      ],
      "text/plain": [
       "                                                          Korozes\n",
       "Nev           Szuletesi datum                                    \n",
       "Klement Tibor 1988-03-29                                    Lopás\n",
       "              1988-03-29       Egyedi Azonosító Jellel Visszaélés\n",
       "              1988-03-29                    Kábítószer Birtoklása\n",
       "              1988-03-29                                   Csalás\n",
       "Matta Elemér  1966-07-10                                 Zsarolás\n",
       "              1966-07-10                               Garázdaság\n",
       "              1966-07-10                      Uzsorabűncselekmény\n",
       "              1966-07-10                             Testi Sértés"
      ]
     },
     "execution_count": 19,
     "metadata": {},
     "output_type": "execute_result"
    }
   ],
   "source": [
    "# bűncselekmények számolása személyenként\n",
    "\n",
    "count_crimes_person = crimes_person_df[\"Korozes\"].groupby(crimes_person_df.index).count()\n",
    "person = count_crimes_person.loc[lambda x: x==x.max()]\n",
    "\n",
    "person_id = person.index.to_list()\n",
    "most_crimes_per_person_df = df.loc[person_id]\n",
    "most_crimes_per_person_df[\"Korozes\"].to_frame()"
   ]
  },
  {
   "cell_type": "code",
   "execution_count": null,
   "id": "bc4ab96d-ae7a-4bf4-a3ea-65bd54cb51b5",
   "metadata": {},
   "outputs": [],
   "source": []
  },
  {
   "cell_type": "markdown",
   "id": "31936dae-ca6c-4e0a-ba93-911931e9e74a",
   "metadata": {},
   "source": [
    "<b>Egy vagy több bűncselekményt elkövetett személyek aránya<b>"
   ]
  },
  {
   "cell_type": "code",
   "execution_count": 20,
   "id": "47f56509-f8b2-42b0-9088-23a47b2ae18c",
   "metadata": {},
   "outputs": [],
   "source": [
    "# maszk azoknak a személyeknek a leválogatásához, akiket több bűncselekmény miatt keresnek\n",
    "filter = count_crimes_person.apply(lambda x: True if x > 1 else False)\n",
    "\n",
    "num_persons = len(persons)\n",
    "num_multiple_crime = len(count_crimes_person[filter])\n",
    "pct_multiple_crime =  num_multiple_crime / num_persons\n",
    "pct_single_crime = 1 - pct_multiple_crime\n",
    "\n",
    "pct_crimes = pd.Series({\"Egy bűncselekmény\": pct_single_crime,\n",
    "                        \"Több bűncselekmény\": pct_multiple_crime})\n"
   ]
  },
  {
   "cell_type": "code",
   "execution_count": 21,
   "id": "d9defe3d-dfff-4df0-bfce-5502ad76424b",
   "metadata": {},
   "outputs": [
    {
     "data": {
      "text/plain": [
       "<matplotlib.legend.Legend at 0x2289d7c6bb0>"
      ]
     },
     "execution_count": 21,
     "metadata": {},
     "output_type": "execute_result"
    },
    {
     "data": {
      "image/png": "[encoded data removed]",
      "text/plain": [
       "<Figure size 300x300 with 1 Axes>"
      ]
     },
     "metadata": {},
     "output_type": "display_data"
    }
   ],
   "source": [
    "pct_crimes.plot(kind = \"pie\",autopct=\"%.1f%%\", ylabel=\"\", labels=None, figsize=(3, 3))\n",
    "plt.legend(labels=pct_crimes.index, loc=\"upper right\", bbox_to_anchor=(1.7, 1.0), fontsize=9)"
   ]
  },
  {
   "cell_type": "code",
   "execution_count": null,
   "id": "7c622b09-1413-4586-8317-3487435950d6",
   "metadata": {},
   "outputs": [],
   "source": []
  },
  {
   "cell_type": "markdown",
   "id": "5b12f22a-86b0-4243-a6e6-a730db0ee4bf",
   "metadata": {},
   "source": [
    "<b>Nők és férfiak aránya<b>"
   ]
  },
  {
   "cell_type": "code",
   "execution_count": 22,
   "id": "0711eb1c-6496-425d-866e-e793247e3d2c",
   "metadata": {},
   "outputs": [
    {
     "data": {
      "text/plain": [
       "<AxesSubplot:>"
      ]
     },
     "execution_count": 22,
     "metadata": {},
     "output_type": "execute_result"
    },
    {
     "data": {
      "image/png": "[encoded data removed]",
      "text/plain": [
       "<Figure size 300x300 with 1 Axes>"
      ]
     },
     "metadata": {},
     "output_type": "display_data"
    }
   ],
   "source": [
    "gender_pct = crimes_person_df.groupby(\"Nem\").size()/len(crimes_person_df)\n",
    "\n",
    "gender_pct.plot(kind =\"pie\", autopct = \"%.2f%%\", ylabel = \"\",figsize=(3, 3), fontsize=8)\n"
   ]
  },
  {
   "cell_type": "code",
   "execution_count": null,
   "id": "2b0f5b91-e4c8-40b3-a49e-92862b811f7f",
   "metadata": {},
   "outputs": [],
   "source": []
  },
  {
   "cell_type": "markdown",
   "id": "f3271ff2-aada-4772-b6b6-94525b3aad26",
   "metadata": {},
   "source": [
    "<b>Körözött bűnözők életkora<b>"
   ]
  },
  {
   "cell_type": "code",
   "execution_count": 23,
   "id": "f3295908-3c7c-4ea1-a00e-1432a970ea80",
   "metadata": {},
   "outputs": [],
   "source": [
    "df[\"Eletkor\"] = (pd.to_datetime(\"today\") - df.index.get_level_values(1)).astype(\"timedelta64[Y]\").astype(int)"
   ]
  },
  {
   "cell_type": "code",
   "execution_count": 24,
   "id": "3ba21950-db96-4ba7-9667-0401080820f8",
   "metadata": {},
   "outputs": [
    {
     "name": "stdout",
     "output_type": "stream",
     "text": [
      "A toplistán a legfiatalabb körözött 27, míg a legidősebb 67 éves.\n"
     ]
    }
   ],
   "source": [
    "min_age = df[\"Eletkor\"].min()\n",
    "max_age = df[\"Eletkor\"].max()\n",
    "print(f\"A toplistán a legfiatalabb körözött {min_age}, míg a legidősebb {max_age} éves.\")"
   ]
  },
  {
   "cell_type": "code",
   "execution_count": 25,
   "id": "ac1a2b5d-6b28-4a72-a7ab-9a792a8e75d6",
   "metadata": {
    "tags": []
   },
   "outputs": [
    {
     "name": "stdout",
     "output_type": "stream",
     "text": [
      " A keresett személyek közül a legtöbben 43 évesek.\n"
     ]
    }
   ],
   "source": [
    "age = df[\"Eletkor\"].astype(int).value_counts().sort_index(ascending = True)\n",
    "most_common_age = age.loc[lambda x: x==x.max()].index[0]\n",
    "print(f\" A keresett személyek közül a legtöbben {most_common_age} évesek.\")"
   ]
  },
  {
   "cell_type": "code",
   "execution_count": 26,
   "id": "eb9284dc-5b5f-4192-af36-00521bfab04a",
   "metadata": {},
   "outputs": [
    {
     "data": {
      "image/png": "[encoded data removed]",
      "text/plain": [
       "<Figure size 600x800 with 1 Axes>"
      ]
     },
     "metadata": {},
     "output_type": "display_data"
    }
   ],
   "source": [
    "age.plot(kind = \"barh\", figsize=(6,8))\n",
    "plt.xlabel(\"Előfordulás száma\")\n",
    "plt.ylabel(\"Életkor\")\n",
    "plt.show()"
   ]
  },
  {
   "cell_type": "code",
   "execution_count": null,
   "id": "a3bec169-8500-4193-8a7b-318384f47b40",
   "metadata": {},
   "outputs": [],
   "source": []
  },
  {
   "cell_type": "markdown",
   "id": "3eb027f1-0c74-4dab-8b44-21b871b333b6",
   "metadata": {},
   "source": [
    "<b>Díjkitűzés összegei és előfordulásai<b>"
   ]
  },
  {
   "cell_type": "code",
   "execution_count": 27,
   "id": "0dab4181-a594-4271-9794-0695eb1f7fcb",
   "metadata": {
    "tags": []
   },
   "outputs": [
    {
     "data": {
      "text/html": [
       "<div>\n",
       "<style scoped>\n",
       "    .dataframe tbody tr th:only-of-type {\n",
       "        vertical-align: middle;\n",
       "    }\n",
       "\n",
       "    .dataframe tbody tr th {\n",
       "        vertical-align: top;\n",
       "    }\n",
       "\n",
       "    .dataframe thead th {\n",
       "        text-align: right;\n",
       "    }\n",
       "</style>\n",
       "<table border=\"1\" class=\"dataframe\">\n",
       "  <thead>\n",
       "    <tr style=\"text-align: right;\">\n",
       "      <th></th>\n",
       "      <th>Nyomravezetoi dij</th>\n",
       "    </tr>\n",
       "  </thead>\n",
       "  <tbody>\n",
       "    <tr>\n",
       "      <th>100000</th>\n",
       "      <td>1</td>\n",
       "    </tr>\n",
       "    <tr>\n",
       "      <th>200000</th>\n",
       "      <td>2</td>\n",
       "    </tr>\n",
       "    <tr>\n",
       "      <th>300000</th>\n",
       "      <td>1</td>\n",
       "    </tr>\n",
       "    <tr>\n",
       "      <th>500000</th>\n",
       "      <td>1</td>\n",
       "    </tr>\n",
       "  </tbody>\n",
       "</table>\n",
       "</div>"
      ],
      "text/plain": [
       "        Nyomravezetoi dij\n",
       "100000                  1\n",
       "200000                  2\n",
       "300000                  1\n",
       "500000                  1"
      ]
     },
     "execution_count": 27,
     "metadata": {},
     "output_type": "execute_result"
    }
   ],
   "source": [
    "has_reward_df = df[df[\"Nyomravezetoi dij\"] > 0]\n",
    "has_reward_df = has_reward_df.loc[:, has_reward_df.columns != \"Korozes\"].drop_duplicates()\n",
    "# egy személy több sorban is megjelenik, ha több bűncselekmények miatt is körözik, emiatt a Körözés oszlop nélkül \n",
    "# számolom, hogy egyes nyomravezetői díjat mennyi bűnőző után fizetne a rendőrség\n",
    "\n",
    "has_reward_df[\"Nyomravezetoi dij\"].value_counts().sort_index().to_frame()"
   ]
  },
  {
   "cell_type": "code",
   "execution_count": null,
   "id": "7c8c8405-9cc9-46bf-a542-b109e66d3abf",
   "metadata": {},
   "outputs": [],
   "source": []
  },
  {
   "cell_type": "markdown",
   "id": "a44af988-4d62-4f14-8359-209d51b7baab",
   "metadata": {},
   "source": [
    "<b>Elkövető, akire a legmagasabb nyomravezetői díjat tűzték ki<b>"
   ]
  },
  {
   "cell_type": "code",
   "execution_count": 28,
   "id": "9d5776ae-36d0-4ee1-8883-8571050b769d",
   "metadata": {},
   "outputs": [
    {
     "data": {
      "text/html": [
       "<div>\n",
       "<style scoped>\n",
       "    .dataframe tbody tr th:only-of-type {\n",
       "        vertical-align: middle;\n",
       "    }\n",
       "\n",
       "    .dataframe tbody tr th {\n",
       "        vertical-align: top;\n",
       "    }\n",
       "\n",
       "    .dataframe thead th {\n",
       "        text-align: right;\n",
       "    }\n",
       "</style>\n",
       "<table border=\"1\" class=\"dataframe\">\n",
       "  <thead>\n",
       "    <tr style=\"text-align: right;\">\n",
       "      <th></th>\n",
       "      <th></th>\n",
       "      <th>Nem</th>\n",
       "      <th>Szuletesi hely</th>\n",
       "      <th>Allampolgarsag</th>\n",
       "      <th>Korozes</th>\n",
       "      <th>Nyomravezetoi dij</th>\n",
       "      <th>Jelzo</th>\n",
       "      <th>Eletkor</th>\n",
       "    </tr>\n",
       "    <tr>\n",
       "      <th>Nev</th>\n",
       "      <th>Szuletesi datum</th>\n",
       "      <th></th>\n",
       "      <th></th>\n",
       "      <th></th>\n",
       "      <th></th>\n",
       "      <th></th>\n",
       "      <th></th>\n",
       "      <th></th>\n",
       "    </tr>\n",
       "  </thead>\n",
       "  <tbody>\n",
       "    <tr>\n",
       "      <th>Bartos Nándor</th>\n",
       "      <th>1982-08-14</th>\n",
       "      <td>Férfi</td>\n",
       "      <td>Baja</td>\n",
       "      <td>Magyar</td>\n",
       "      <td>Embercsempészés</td>\n",
       "      <td>500000</td>\n",
       "      <td></td>\n",
       "      <td>40</td>\n",
       "    </tr>\n",
       "  </tbody>\n",
       "</table>\n",
       "</div>"
      ],
      "text/plain": [
       "                                 Nem Szuletesi hely Allampolgarsag  \\\n",
       "Nev           Szuletesi datum                                        \n",
       "Bartos Nándor 1982-08-14       Férfi           Baja         Magyar   \n",
       "\n",
       "                                       Korozes  Nyomravezetoi dij Jelzo  \\\n",
       "Nev           Szuletesi datum                                             \n",
       "Bartos Nándor 1982-08-14       Embercsempészés             500000         \n",
       "\n",
       "                               Eletkor  \n",
       "Nev           Szuletesi datum           \n",
       "Bartos Nándor 1982-08-14            40  "
      ]
     },
     "execution_count": 28,
     "metadata": {},
     "output_type": "execute_result"
    }
   ],
   "source": [
    "df[df[\"Nyomravezetoi dij\"] == df[\"Nyomravezetoi dij\"].max()]"
   ]
  },
  {
   "cell_type": "code",
   "execution_count": null,
   "id": "cbf2558d-4597-40cb-8fea-c6e2e2a248af",
   "metadata": {},
   "outputs": [],
   "source": []
  },
  {
   "cell_type": "markdown",
   "id": "159e66bc-9aa3-49ff-aa18-45f1e060fd58",
   "metadata": {},
   "source": [
    "<b>Bűnőzökre adott jelzők<b>"
   ]
  },
  {
   "cell_type": "code",
   "execution_count": 29,
   "id": "ec88e80a-1fab-4437-8d12-caba1dcae116",
   "metadata": {},
   "outputs": [
    {
     "name": "stdout",
     "output_type": "stream",
     "text": [
      "Különösen Veszélyes\n",
      "Fegyveres\n"
     ]
    }
   ],
   "source": [
    "traits = df[\"Jelzo\"].unique().tolist()\n",
    "traits.remove(\"\")\n",
    "for trait in traits:\n",
    "    print(trait)"
   ]
  },
  {
   "cell_type": "markdown",
   "id": "f85d62e1-4a39-4a6a-a4c6-4da5b72a1076",
   "metadata": {},
   "source": [
    "<b>Bűnözők, akiket különösen veszélyes és/vagy fegyveres elkövetőként soroltak be<b>"
   ]
  },
  {
   "cell_type": "code",
   "execution_count": 30,
   "id": "1f0b4c62-fa5f-4d22-be76-1798faba6172",
   "metadata": {},
   "outputs": [
    {
     "data": {
      "text/html": [
       "<div>\n",
       "<style scoped>\n",
       "    .dataframe tbody tr th:only-of-type {\n",
       "        vertical-align: middle;\n",
       "    }\n",
       "\n",
       "    .dataframe tbody tr th {\n",
       "        vertical-align: top;\n",
       "    }\n",
       "\n",
       "    .dataframe thead th {\n",
       "        text-align: right;\n",
       "    }\n",
       "</style>\n",
       "<table border=\"1\" class=\"dataframe\">\n",
       "  <thead>\n",
       "    <tr style=\"text-align: right;\">\n",
       "      <th></th>\n",
       "      <th></th>\n",
       "      <th>Nem</th>\n",
       "      <th>Szuletesi hely</th>\n",
       "      <th>Allampolgarsag</th>\n",
       "      <th>Korozes</th>\n",
       "      <th>Nyomravezetoi dij</th>\n",
       "      <th>Jelzo</th>\n",
       "      <th>Eletkor</th>\n",
       "    </tr>\n",
       "    <tr>\n",
       "      <th>Nev</th>\n",
       "      <th>Szuletesi datum</th>\n",
       "      <th></th>\n",
       "      <th></th>\n",
       "      <th></th>\n",
       "      <th></th>\n",
       "      <th></th>\n",
       "      <th></th>\n",
       "      <th></th>\n",
       "    </tr>\n",
       "  </thead>\n",
       "  <tbody>\n",
       "    <tr>\n",
       "      <th rowspan=\"2\" valign=\"top\">Kozák Ali</th>\n",
       "      <th>1985-12-24</th>\n",
       "      <td>Férfi</td>\n",
       "      <td>Miskolc</td>\n",
       "      <td>Magyar</td>\n",
       "      <td></td>\n",
       "      <td>0</td>\n",
       "      <td>Különösen Veszélyes</td>\n",
       "      <td>37</td>\n",
       "    </tr>\n",
       "    <tr>\n",
       "      <th>1985-12-24</th>\n",
       "      <td>Férfi</td>\n",
       "      <td>Miskolc</td>\n",
       "      <td>Magyar</td>\n",
       "      <td></td>\n",
       "      <td>0</td>\n",
       "      <td>Fegyveres</td>\n",
       "      <td>37</td>\n",
       "    </tr>\n",
       "    <tr>\n",
       "      <th rowspan=\"2\" valign=\"top\">Sütő Ferenc</th>\n",
       "      <th>1979-11-27</th>\n",
       "      <td>Férfi</td>\n",
       "      <td>Budapest 03</td>\n",
       "      <td>Magyar</td>\n",
       "      <td></td>\n",
       "      <td>0</td>\n",
       "      <td>Különösen Veszélyes</td>\n",
       "      <td>43</td>\n",
       "    </tr>\n",
       "    <tr>\n",
       "      <th>1979-11-27</th>\n",
       "      <td>Férfi</td>\n",
       "      <td>Budapest 03</td>\n",
       "      <td>Magyar</td>\n",
       "      <td></td>\n",
       "      <td>0</td>\n",
       "      <td>Fegyveres</td>\n",
       "      <td>43</td>\n",
       "    </tr>\n",
       "  </tbody>\n",
       "</table>\n",
       "</div>"
      ],
      "text/plain": [
       "                               Nem Szuletesi hely Allampolgarsag Korozes  \\\n",
       "Nev         Szuletesi datum                                                \n",
       "Kozák Ali   1985-12-24       Férfi        Miskolc         Magyar           \n",
       "            1985-12-24       Férfi        Miskolc         Magyar           \n",
       "Sütő Ferenc 1979-11-27       Férfi    Budapest 03         Magyar           \n",
       "            1979-11-27       Férfi    Budapest 03         Magyar           \n",
       "\n",
       "                             Nyomravezetoi dij                Jelzo  Eletkor  \n",
       "Nev         Szuletesi datum                                                   \n",
       "Kozák Ali   1985-12-24                       0  Különösen Veszélyes       37  \n",
       "            1985-12-24                       0            Fegyveres       37  \n",
       "Sütő Ferenc 1979-11-27                       0  Különösen Veszélyes       43  \n",
       "            1979-11-27                       0            Fegyveres       43  "
      ]
     },
     "execution_count": 30,
     "metadata": {},
     "output_type": "execute_result"
    }
   ],
   "source": [
    "df[df[\"Jelzo\"].isin(traits)]"
   ]
  },
  {
   "cell_type": "code",
   "execution_count": null,
   "id": "f185ce3f-42c8-407e-a87c-0e885b17b61a",
   "metadata": {},
   "outputs": [],
   "source": []
  }
 ],
 "metadata": {
  "kernelspec": {
   "display_name": "Python 3 (ipykernel)",
   "language": "python",
   "name": "python3"
  },
  "language_info": {
   "codemirror_mode": {
    "name": "ipython",
    "version": 3
   },
   "file_extension": ".py",
   "mimetype": "text/x-python",
   "name": "python",
   "nbconvert_exporter": "python",
   "pygments_lexer": "ipython3",
   "version": "3.9.13"
  }
 },
 "nbformat": 4,
 "nbformat_minor": 5
}
